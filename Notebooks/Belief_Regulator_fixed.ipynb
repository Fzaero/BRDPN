{
 "cells": [
  {
   "cell_type": "markdown",
   "metadata": {},
   "source": [
    "# Running The Model"
   ]
  },
  {
   "cell_type": "markdown",
   "metadata": {},
   "source": [
    "### Init"
   ]
  },
  {
   "cell_type": "code",
   "execution_count": null,
   "metadata": {
    "scrolled": true
   },
   "outputs": [],
   "source": [
    "import os\n",
    "import hack\n",
    "from DatasetLoader import *\n",
    "from DataGenerator import *\n",
    "import pickle\n",
    "with open('../Models/Dataset_Simple_scaler.pickle', 'rb') as handle:\n",
    "    dataset_scaler = pickle.load(handle)"
   ]
  },
  {
   "cell_type": "code",
   "execution_count": null,
   "metadata": {},
   "outputs": [],
   "source": [
    "import os\n",
    "TEST_PATH='../Test_Results/Temporal-Prop-Network-Fixed'\n",
    "if os.path.exists(TEST_PATH):\n",
    "    print(Exception('This directory already exists'));\n",
    "else:    \n",
    "    os.mkdir(TEST_PATH);\n",
    "    os.mkdir(TEST_PATH+'/saved_models')"
   ]
  },
  {
   "cell_type": "code",
   "execution_count": null,
   "metadata": {},
   "outputs": [],
   "source": [
    "## ALT\n",
    "my_dataset9 = MyDataset(PATH='../Data/DATASET_FIXED_ONLY/9Objects/',n_of_scene=1100,n_of_exp=4,n_of_obj=9,f_size=8,n_of_rel_type=1,fr_size=240,scaler=dataset_scaler)    \n",
    "my_dataset6 = MyDataset(PATH='../Data/DATASET_FIXED_ONLY/6Objects/',n_of_scene=50,n_of_exp=4,n_of_obj=6,f_size=8,n_of_rel_type=1,fr_size=240,scaler=dataset_scaler)    \n",
    "my_dataset12 = MyDataset(PATH='../Data/DATASET_FIXED_ONLY/12Objects/',n_of_scene=50,n_of_exp=4,n_of_obj=12,f_size=8,n_of_rel_type=1,fr_size=240,scaler=dataset_scaler)    \n",
    "my_dataset9.divideDataset(9.0/11,1.5/11)\n",
    "my_dataset6.divideDataset(0.0,0.5)\n",
    "my_dataset12.divideDataset(0.0,0.5)"
   ]
  },
  {
   "cell_type": "code",
   "execution_count": null,
   "metadata": {},
   "outputs": [],
   "source": [
    "my_dataset_test6 = MyDataset2(PATH='../Data/DATASET_TEST_Simple/6Objects/',n_of_scene=50,n_of_exp=4,n_of_groups=7,n_of_obj=6,f_size=5,n_of_rel_type=1,fr_size=50,scaler=dataset_scaler)\n",
    "my_dataset_test6.divideDataset(0,0)\n",
    "my_dataset_test8 = MyDataset2(PATH='../Data/DATASET_TEST_Simple/8Objects/',n_of_scene=50,n_of_exp=4,n_of_groups=10,n_of_obj=8,f_size=5,n_of_rel_type=1,fr_size=50,scaler=dataset_scaler)\n",
    "my_dataset_test8.divideDataset(0,0)\n",
    "my_dataset_test9 = MyDataset2(PATH='../Data/DATASET_TEST_Simple/9Objects/',n_of_scene=50,n_of_exp=4,n_of_groups=12,n_of_obj=9,f_size=5,n_of_rel_type=1,fr_size=50,scaler=dataset_scaler)\n",
    "my_dataset_test9.divideDataset(0,0)"
   ]
  },
  {
   "cell_type": "markdown",
   "metadata": {},
   "source": [
    "### Network Creation"
   ]
  },
  {
   "cell_type": "code",
   "execution_count": null,
   "metadata": {},
   "outputs": [],
   "source": [
    "import hack\n",
    "from Networks import *\n",
    "Tpns = TemporalPropagationNetwork()\n",
    "Tpn = TPNs.getModel(10,6,1,100,50)"
   ]
  },
  {
   "cell_type": "code",
   "execution_count": null,
   "metadata": {},
   "outputs": [],
   "source": [
    "from Test import *\n",
    "Tpn.load_weights(('../Models/TPN_fixed.hdf5'))\n",
    "Tpn9 = Tpns.getModel(10,6,1,240,0)\n",
    "Tpn6 = Tpns.getModel(7,6,1,240,0)\n",
    "Tpn12 = Tpns.getModel(13,6,1,240,0)"
   ]
  },
  {
   "cell_type": "markdown",
   "metadata": {},
   "source": [
    "### Running Model on Test Set Sparse"
   ]
  },
  {
   "cell_type": "code",
   "execution_count": null,
   "metadata": {},
   "outputs": [],
   "source": [
    "xy_origin_pos9,edge9,r9,predicted_edges9=Test_TPN(my_dataset9,Tpn9,240,dataset_scaler.relation_threshold)\n",
    "xy_origin_pos6,edge6,r6,predicted_edges6=Test_TPN(my_dataset6,Tpn6,240,dataset_scaler.relation_threshold)\n",
    "xy_origin_pos12,edge12,r12,predicted_edges12=Test_TPN(my_dataset12,Tpn12,240,dataset_scaler.relation_threshold)"
   ]
  },
  {
   "cell_type": "markdown",
   "metadata": {},
   "source": [
    "### Creating Test Videos"
   ]
  },
  {
   "cell_type": "code",
   "execution_count": null,
   "metadata": {},
   "outputs": [],
   "source": [
    "os.mkdir(TEST_PATH+'/TestVideos/')\n",
    "os.mkdir(TEST_PATH+'/TestVideos/9-Sparse')\n",
    "os.mkdir(TEST_PATH+'/TestVideos/6-Sparse')\n",
    "os.mkdir(TEST_PATH+'/TestVideos/12-Sparse')"
   ]
  },
  {
   "cell_type": "code",
   "execution_count": null,
   "metadata": {},
   "outputs": [],
   "source": [
    "from IPython.display import clear_output\n",
    "import os\n",
    "for ii in range(1,10,1):\n",
    "    make_video_TPN_fixed(xy_origin_pos9[ii,:,:,:],r9[ii,:],predicted_edges9[ii],TEST_PATH+'/TestVideos/9-Sparse/test_'+str(ii)+'.mp4')\n",
    "    make_video_Fixed(xy_origin_pos9[ii,:,:,:],r9[ii,:],predicted_edges9[ii],TEST_PATH+'/TestVideos/9-Sparse/true_'+str(ii)+'.mp4')\n",
    "    clear_output()\n",
    "for ii in range(1,10,3):\n",
    "    make_video_TPN_fixed(xy_origin_pos6[ii,:,:,:],r6[ii,:],predicted_edges6[ii],TEST_PATH+'/TestVideos/6-Sparse/test_'+str(ii)+'.mp4')\n",
    "    make_video_Fixed(xy_origin_pos6[ii,:,:,:],r6[ii,:],predicted_edges6[ii],TEST_PATH+'/TestVideos/6-Sparse/true_'+str(ii)+'.mp4')\n",
    "    clear_output()\n",
    "for ii in range(1,10,3):\n",
    "    make_video_TPN_fixed(xy_origin_pos12[ii,:,:,:],r12[ii,:],predicted_edges12[ii],TEST_PATH+'/TestVideos/12-Sparse/test_'+str(ii)+'.mp4')\n",
    "    make_video_Fixed(xy_origin_pos12[ii,:,:,:],r12[ii,:],predicted_edges12[ii],TEST_PATH+'/TestVideos/12-Sparse/true_'+str(ii)+'.mp4')\n",
    "    clear_output()"
   ]
  },
  {
   "cell_type": "markdown",
   "metadata": {},
   "source": [
    "### Running Model on Test Set Dense"
   ]
  },
  {
   "cell_type": "code",
   "execution_count": null,
   "metadata": {},
   "outputs": [],
   "source": [
    "Tpn6 = Tpns.getModel(7,6,1,50,0)\n",
    "Tpn8 = Tpns.getModel(9,6,1,50,0)\n",
    "Tpn9 = Tpns.getModel(10,6,1,50,0)"
   ]
  },
  {
   "cell_type": "code",
   "execution_count": null,
   "metadata": {},
   "outputs": [],
   "source": [
    "xy_origin_pos6,edge6,r6,predicted_edges6=Test_TPN(my_dataset_test6,Tpn6,50,dataset_scaler.relation_threshold)\n",
    "xy_origin_pos8,edge8,r8,predicted_edges8=Test_TPN(my_dataset_test8,Tpn8,50,dataset_scaler.relation_threshold)\n",
    "xy_origin_pos9,edge9,r9,predicted_edges9=Test_TPN(my_dataset_test9,Tpn9,50,dataset_scaler.relation_threshold)"
   ]
  },
  {
   "cell_type": "code",
   "execution_count": null,
   "metadata": {},
   "outputs": [],
   "source": [
    "os.mkdir(TEST_PATH+'/TestVideos/6-Dense')\n",
    "os.mkdir(TEST_PATH+'/TestVideos/8-Dense')\n",
    "os.mkdir(TEST_PATH+'/TestVideos/9-Dense')"
   ]
  },
  {
   "cell_type": "code",
   "execution_count": null,
   "metadata": {},
   "outputs": [],
   "source": [
    "from IPython.display import clear_output\n",
    "import os\n",
    "for ii in range(1,10,1):\n",
    "    make_video_TPN_fixed(xy_origin_pos6[ii,:,:,:],r6[ii,:],predicted_edges6[ii],TEST_PATH+'/TestVideos/6-Dense/test_'+str(ii)+'.mp4')\n",
    "    make_video_Fixed(xy_origin_pos6[ii,:,:,:],r6[ii,:],edge6[ii],TEST_PATH+'/TestVideos/6-Dense/true_'+str(ii)+'.mp4')\n",
    "    clear_output()\n",
    "for ii in range(1,10,3):\n",
    "    make_video_TPN_fixed(xy_origin_pos8[ii,:,:,:],r8[ii,:],predicted_edges8[ii],TEST_PATH+'/TestVideos/8-Dense/test_'+str(ii)+'.mp4')\n",
    "    make_video_Fixed(xy_origin_pos8[ii,:,:,:],r8[ii,:],edge8[ii],TEST_PATH+'/TestVideos/8-Dense/true_'+str(ii)+'.mp4')\n",
    "    clear_output()\n",
    "for ii in range(1,10,3):\n",
    "    make_video_TPN_fixed(xy_origin_pos9[ii,:,:,:],r9[ii,:],predicted_edges9[ii],TEST_PATH+'/TestVideos/9-Dense/test_'+str(ii)+'.mp4')\n",
    "    make_video_Fixed(xy_origin_pos9[ii,:,:,:],r9[ii,:],edge9[ii],TEST_PATH+'/TestVideos/9-Dense/true_'+str(ii)+'.mp4')\n",
    "    clear_output()"
   ]
  },
  {
   "cell_type": "markdown",
   "metadata": {},
   "source": [
    "## Training"
   ]
  },
  {
   "cell_type": "code",
   "execution_count": null,
   "metadata": {},
   "outputs": [],
   "source": [
    "TrainDg9_TPN=RelationDataGeneratorMany(10,1,240,3600,my_dataset9.data_tr,my_dataset9.r_i_tr,my_dataset9.scaler.relation_threshold,False,32,100,50,True)\n",
    "valDg9_TPN=RelationDataGeneratorMany(10,1,240,600,my_dataset9.data_val,my_dataset9.r_i_val,my_dataset9.scaler.relation_threshold,False,100,100,50,False)\n",
    "testDg9_TPN=RelationDataGeneratorMany(10,1,240,200,my_dataset9.data_test,my_dataset9.r_i_test,my_dataset9.scaler.relation_threshold,False,100,100,50,False)"
   ]
  },
  {
   "cell_type": "code",
   "execution_count": null,
   "metadata": {},
   "outputs": [],
   "source": [
    "import hack\n",
    "from Networks import *\n",
    "import hack\n",
    "from Networks import *\n",
    "Tpns = TemporalPropagationNetwork()\n",
    "Tpn = Tpns.getModel(10,6,1,100,50)\n",
    "\n",
    "from Callbacks import *\n",
    "import os\n",
    "reduce_lr= keras.callbacks.ReduceLROnPlateau(monitor='val_loss', factor=0.8,verbose=1, patience=4, mode='auto', cooldown=1)\n",
    "class save_model_cb(keras.callbacks.Callback):\n",
    "\n",
    "    def __init__(self, model,TEST_PATH):\n",
    "        self.model_to_save = model\n",
    "        self.save_path=TEST_PATH+'/saved_models/'\n",
    "\n",
    "    def on_epoch_end(self, epoch, logs=None):\n",
    "        self.model_to_save.save_weights(self.save_path+'weights%02d.hdf5' % epoch)\n",
    "save_model= save_model_cb(Tpn,TEST_PATH)"
   ]
  },
  {
   "cell_type": "code",
   "execution_count": null,
   "metadata": {},
   "outputs": [],
   "source": [
    "history= Tpn.fit_generator(generator=TrainDg9_TPN,\n",
    "                 validation_data=valDg9_TPN,\n",
    "                 epochs=250,\n",
    "                 use_multiprocessing=True,\n",
    "                  workers=64,\n",
    "                 callbacks=[reduce_lr,save_model],\n",
    "                 verbose=1)"
   ]
  }
 ],
 "metadata": {
  "kernelspec": {
   "display_name": "Python 2",
   "language": "python",
   "name": "python2"
  },
  "language_info": {
   "codemirror_mode": {
    "name": "ipython",
    "version": 2
   },
   "file_extension": ".py",
   "mimetype": "text/x-python",
   "name": "python",
   "nbconvert_exporter": "python",
   "pygments_lexer": "ipython2",
   "version": "2.7.16"
  },
  "varInspector": {
   "cols": {
    "lenName": 16,
    "lenType": 16,
    "lenVar": 40
   },
   "kernels_config": {
    "python": {
     "delete_cmd_postfix": "",
     "delete_cmd_prefix": "del ",
     "library": "var_list.py",
     "varRefreshCmd": "print(var_dic_list())"
    },
    "r": {
     "delete_cmd_postfix": ") ",
     "delete_cmd_prefix": "rm(",
     "library": "var_list.r",
     "varRefreshCmd": "cat(var_dic_list()) "
    }
   },
   "types_to_exclude": [
    "module",
    "function",
    "builtin_function_or_method",
    "instance",
    "_Feature"
   ],
   "window_display": false
  }
 },
 "nbformat": 4,
 "nbformat_minor": 2
}
