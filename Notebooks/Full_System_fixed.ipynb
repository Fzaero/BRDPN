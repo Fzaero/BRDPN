{
 "cells": [
  {
   "cell_type": "markdown",
   "metadata": {},
   "source": [
    "# Running The Model"
   ]
  },
  {
   "cell_type": "markdown",
   "metadata": {},
   "source": [
    "### Init"
   ]
  },
  {
   "cell_type": "code",
   "execution_count": null,
   "metadata": {
    "scrolled": true
   },
   "outputs": [],
   "source": [
    "import os\n",
    "import hack\n",
    "from DatasetLoader import *\n",
    "from DataGenerator import *\n",
    "import pickle\n",
    "with open('../Models/Dataset_Simple_scaler.pickle', 'rb') as handle:\n",
    "    dataset_scaler = pickle.load(handle)"
   ]
  },
  {
   "cell_type": "code",
   "execution_count": null,
   "metadata": {},
   "outputs": [],
   "source": [
    "import os\n",
    "TEST_PATH='../Test_Results/Temporal-Prop-Network-Fixed'\n",
    "if os.path.exists(TEST_PATH):\n",
    "    print(Exception('This directory already exists'));\n",
    "else:    \n",
    "    os.mkdir(TEST_PATH);\n",
    "    os.mkdir(TEST_PATH+'/saved_models')"
   ]
  },
  {
   "cell_type": "code",
   "execution_count": null,
   "metadata": {},
   "outputs": [],
   "source": [
    "## ALT\n",
    "my_dataset9 = MyDataset(PATH='../Data/DATASET_FIXED_ONLY/9Objects/',n_of_scene=1100,n_of_exp=4,n_of_obj=9,f_size=8,n_of_rel_type=1,fr_size=240,scaler=dataset_scaler)    \n",
    "my_dataset6 = MyDataset(PATH='../Data/DATASET_FIXED_ONLY/6Objects/',n_of_scene=50,n_of_exp=4,n_of_obj=6,f_size=8,n_of_rel_type=1,fr_size=240,scaler=dataset_scaler)    \n",
    "my_dataset12 = MyDataset(PATH='../Data/DATASET_FIXED_ONLY/12Objects/',n_of_scene=50,n_of_exp=4,n_of_obj=12,f_size=8,n_of_rel_type=1,fr_size=240,scaler=dataset_scaler)    \n",
    "my_dataset9.divideDataset(9.0/11,1.5/11)\n",
    "my_dataset6.divideDataset(0.0,0.5)\n",
    "my_dataset12.divideDataset(0.0,0.5)"
   ]
  },
  {
   "cell_type": "code",
   "execution_count": null,
   "metadata": {},
   "outputs": [],
   "source": [
    "my_dataset_test6 = MyDataset2(PATH='../Data/DATASET_TEST_Simple/6Objects/',n_of_scene=50,n_of_exp=4,n_of_groups=7,n_of_obj=6,f_size=5,n_of_rel_type=1,fr_size=50,scaler=dataset_scaler)\n",
    "my_dataset_test6.divideDataset(0,0)\n",
    "my_dataset_test8 = MyDataset2(PATH='../Data/DATASET_TEST_Simple/8Objects/',n_of_scene=50,n_of_exp=4,n_of_groups=10,n_of_obj=8,f_size=5,n_of_rel_type=1,fr_size=50,scaler=dataset_scaler)\n",
    "my_dataset_test8.divideDataset(0,0)\n",
    "my_dataset_test9 = MyDataset2(PATH='../Data/DATASET_TEST_Simple/9Objects/',n_of_scene=50,n_of_exp=4,n_of_groups=12,n_of_obj=9,f_size=5,n_of_rel_type=1,fr_size=50,scaler=dataset_scaler)\n",
    "my_dataset_test9.divideDataset(0,0)"
   ]
  },
  {
   "cell_type": "code",
   "execution_count": null,
   "metadata": {},
   "outputs": [],
   "source": [
    "import hack\n",
    "from Networks import *\n",
    "Pns= PropagationNetwork()\n",
    "Pn1=Pns.getModel(10,6,1)"
   ]
  },
  {
   "cell_type": "code",
   "execution_count": null,
   "metadata": {},
   "outputs": [],
   "source": [
    "from Test import *\n",
    "\n",
    "Pns.setModel(10,'../Models/PN_fixed.hdf5')\n",
    "_=Pns.getModel(7,6,1)\n",
    "_=Pns.getModel(9,6,1)\n",
    "_=Pns.getModel(10,6,1)\n",
    "_=Pns.getModel(13,6,1)"
   ]
  },
  {
   "cell_type": "code",
   "execution_count": null,
   "metadata": {},
   "outputs": [],
   "source": [
    "# TODO: Take this to test.src\n",
    "\n",
    "def custom_Test(dataset,relations,startStep,Ins,frame_len,relation_threshold):\n",
    "    n_objects = dataset.n_of_obj+1\n",
    "    num_of_rel_type=dataset.num_of_rel_type\n",
    "    if num_of_rel_type>1:\n",
    "        num_of_rel_type=num_of_rel_type+1\n",
    "    n_relations=n_objects*(n_objects-1)\n",
    "    In=Ins.getModel(n_objects)\n",
    "    GroundData=dataset.data[dataset.test_traj_start:,startStep:,:,:]\n",
    "    n_of_traj=GroundData.shape[0]\n",
    "    \n",
    "    xy_origin_pos=copy.deepcopy(GroundData[:,:frame_len,:,2:4]);\n",
    "    xy_origin_vel=copy.deepcopy(GroundData[:,:frame_len,:,4:6]);\n",
    "    \n",
    "    dataToModel= np.zeros([n_of_traj,frame_len,n_objects,6])\n",
    "    dataToModel[:,0,:,:]= copy.deepcopy(GroundData[:,0,:,:])\n",
    "    dataToModel[:,:,0,:]= copy.deepcopy(GroundData[:,:frame_len,0,:])\n",
    "    dataToModel[:,:,:,:2]= copy.deepcopy(GroundData[:,:frame_len,:,:2])\n",
    "    dataToModel[:,0,1:,4:6]= 0\n",
    "    r= dataToModel[:,0,:,0]\n",
    "    dataToModel=dataset.scaler.transform(dataToModel)\n",
    "    val_receiver_relations = np.zeros((n_of_traj, n_objects, n_relations), dtype=float);\n",
    "    val_sender_relations   = np.zeros((n_of_traj, n_objects, n_relations), dtype=float);\n",
    "    val_relation_info = relations\n",
    "    propagation = np.zeros((n_of_traj, n_objects, 100))\n",
    "    cnt = 0\n",
    "    for m in range(n_objects):\n",
    "        for j in range(n_objects):\n",
    "            if(m != j):\n",
    "                inzz=np.linalg.norm(dataToModel[:,0,m,2:4]-dataToModel[:,0,j,2:4],axis=1)<relation_threshold\n",
    "                val_receiver_relations[inzz, j, cnt] = 1.0\n",
    "                val_sender_relations[inzz, m, cnt]   = 1.0\n",
    "                cnt += 1\n",
    "    edges=val_relation_info\n",
    "    for i in range(1,frame_len):\n",
    "        velocities=In.predict({'objects': dataToModel[:,i-1,:,:],'sender_relations': val_sender_relations,'receiver_relations': val_receiver_relations,'relation_info': val_relation_info,'propagation':propagation})\n",
    "        dataToModel[:,i,1:,2:4]=dataToModel[:,i-1,1:,2:4]\n",
    "        dataToModel[:,i,1:,4:6]=velocities[:,:,:]; \n",
    "        dataToModel[:,i,1:,:]=PositionCalculateNext(dataToModel[:,i,1:,:],dataset.scaler)\n",
    "        val_receiver_relations = np.zeros((n_of_traj, n_objects, n_relations), dtype=float);\n",
    "        val_sender_relations   = np.zeros((n_of_traj, n_objects, n_relations), dtype=float);\n",
    "        cnt = 0\n",
    "        for m in range(n_objects):\n",
    "            for j in range(n_objects):\n",
    "                if(m != j):\n",
    "                    inzz=np.linalg.norm(dataToModel[:,i,m,2:4]-dataToModel[:,i,j,2:4],axis=1)<relation_threshold\n",
    "                    val_receiver_relations[inzz, j, cnt] = 1.0\n",
    "                    val_sender_relations[inzz, m, cnt]   = 1.0                    \n",
    "                    cnt += 1\n",
    "    pred_xy = dataset.scaler.inv_transform(dataToModel)\n",
    "    \n",
    "    xy_calculated_pos=pred_xy[:,:,:,2:4]\n",
    "    xy_calculated_vel=pred_xy[:,:,:,4:6]\n",
    "    print 'mse-pos:',np.log(mean_squared_error(xy_calculated_pos[:,:,1:,:].reshape(-1,2),xy_origin_pos[:,:,1:,:].reshape(-1,2)))\n",
    "    print 'mse-vel:',np.log(mean_squared_error(xy_calculated_vel[:,:,1:,:].reshape(-1,2),xy_origin_vel[:,:,1:,:].reshape(-1,2)))\n",
    "    return mean_squared_error(xy_calculated_pos[:,:,1:,:].reshape(-1,2),xy_origin_pos[:,:,1:,:].reshape(-1,2))"
   ]
  },
  {
   "cell_type": "markdown",
   "metadata": {},
   "source": [
    "### Running Model on Test Set Sparse"
   ]
  },
  {
   "cell_type": "code",
   "execution_count": null,
   "metadata": {},
   "outputs": [],
   "source": [
    "import hack\n",
    "from Networks import *\n",
    "Tpns = TemporalPropagationNetwork()\n",
    "Tpn = Tpns.getModel(10,6,1,100,50)"
   ]
  },
  {
   "cell_type": "code",
   "execution_count": null,
   "metadata": {},
   "outputs": [],
   "source": [
    "from Test import *\n",
    "Tpn.load_weights(('../Models/TPN_fixed.hdf5'))\n",
    "Tpn9 = Tpns.getModel(10,6,1,240,0)\n",
    "Tpn6 = Tpns.getModel(7,6,1,240,0)\n",
    "Tpn12 = Tpns.getModel(13,6,1,240,0)"
   ]
  },
  {
   "cell_type": "code",
   "execution_count": null,
   "metadata": {},
   "outputs": [],
   "source": [
    "xy_origin_pos9,edge9,r9,predicted_edges9=Test_TPN(my_dataset9,Tpn9,240,dataset_scaler.relation_threshold)\n",
    "xy_origin_pos6,edge6,r6,predicted_edges6=Test_TPN(my_dataset6,Tpn6,240,dataset_scaler.relation_threshold)\n",
    "xy_origin_pos12,edge12,r12,predicted_edges12=Test_TPN(my_dataset12,Tpn12,240,dataset_scaler.relation_threshold)"
   ]
  },
  {
   "cell_type": "code",
   "execution_count": null,
   "metadata": {},
   "outputs": [],
   "source": [
    "predicted_edges_alt=dict()\n",
    "predicted_edges_alt[9]=predicted_edges9.copy()\n",
    "predicted_edges_alt[9][predicted_edges_alt[9]>0.7]=1\n",
    "predicted_edges_alt[9][predicted_edges_alt[9]<0.8]=0\n",
    "\n",
    "predicted_edges_alt[6]=predicted_edges6.copy()\n",
    "predicted_edges_alt[6][predicted_edges_alt[6]>0.7]=1\n",
    "predicted_edges_alt[6][predicted_edges_alt[6]<0.8]=0\n",
    "\n",
    "predicted_edges_alt[12]=predicted_edges12.copy()\n",
    "predicted_edges_alt[12][predicted_edges_alt[12]>0.7]=1\n",
    "predicted_edges_alt[12][predicted_edges_alt[12]<0.8]=0\n",
    "\n",
    "datasets=dict()\n",
    "datasets[6]=my_dataset6\n",
    "datasets[9]=my_dataset9\n",
    "datasets[12]=my_dataset12"
   ]
  },
  {
   "cell_type": "code",
   "execution_count": null,
   "metadata": {},
   "outputs": [],
   "source": [
    "errors=dict()\n",
    "for obj in [6,9,12]:\n",
    "    errors[obj]=list()\n",
    "for ts in [20,40,60,80,100,120,140,160,180,200]:\n",
    "    for objects in [6,9,12]:\n",
    "        errors[objects].append(custom_Test(datasets[objects],predicted_edges_alt[objects][:,:,ts,:],ts,Pns,240-ts,dataset_scaler.relation_threshold))"
   ]
  },
  {
   "cell_type": "markdown",
   "metadata": {},
   "source": [
    "### Running Model on Test Set Dense"
   ]
  },
  {
   "cell_type": "code",
   "execution_count": null,
   "metadata": {},
   "outputs": [],
   "source": [
    "Tpn6 = Tpns.getModel(7,6,1,50,0)\n",
    "Tpn8 = Tpns.getModel(9,6,1,50,0)\n",
    "Tpn9 = Tpns.getModel(10,6,1,50,0)"
   ]
  },
  {
   "cell_type": "code",
   "execution_count": null,
   "metadata": {},
   "outputs": [],
   "source": [
    "xy_origin_pos6,edge6,r6,predicted_edges6=Test_TPN(my_dataset_test6,Tpn6,50,dataset_scaler.relation_threshold)\n",
    "xy_origin_pos8,edge8,r8,predicted_edges8=Test_TPN(my_dataset_test8,Tpn8,50,dataset_scaler.relation_threshold)\n",
    "xy_origin_pos9,edge9,r9,predicted_edges9=Test_TPN(my_dataset_test9,Tpn9,50,dataset_scaler.relation_threshold)"
   ]
  },
  {
   "cell_type": "code",
   "execution_count": null,
   "metadata": {},
   "outputs": [],
   "source": [
    "predicted_edges_alt=dict()\n",
    "predicted_edges_alt[6]=predicted_edges6.copy()\n",
    "predicted_edges_alt[6][predicted_edges_alt[6]>0.7]=1\n",
    "predicted_edges_alt[6][predicted_edges_alt[6]<0.8]=0\n",
    "\n",
    "predicted_edges_alt[8]=predicted_edges8.copy()\n",
    "predicted_edges_alt[8][predicted_edges_alt[8]>0.7]=1\n",
    "predicted_edges_alt[8][predicted_edges_alt[8]<0.8]=0\n",
    "\n",
    "predicted_edges_alt[9]=predicted_edges9.copy()\n",
    "predicted_edges_alt[9][predicted_edges_alt[9]>0.7]=1\n",
    "predicted_edges_alt[9][predicted_edges_alt[9]<0.8]=0\n",
    "\n",
    "datasets=dict()\n",
    "datasets[6]=my_dataset_test6\n",
    "datasets[8]=my_dataset_test8\n",
    "datasets[9]=my_dataset_test9"
   ]
  },
  {
   "cell_type": "code",
   "execution_count": null,
   "metadata": {},
   "outputs": [],
   "source": [
    "errors=dict()\n",
    "for obj in [6,8,9]:\n",
    "    errors[obj]=list()\n",
    "for ts in [5,10,15,20,25,30]:\n",
    "    for objects in [6,8,9]:\n",
    "        errors[objects].append(custom_Test(datasets[objects],predicted_edges_alt[objects][:,:,ts,:],ts,Pns,50-ts,dataset_scaler.relation_threshold))"
   ]
  },
  {
   "cell_type": "code",
   "execution_count": null,
   "metadata": {},
   "outputs": [],
   "source": []
  }
 ],
 "metadata": {
  "kernelspec": {
   "display_name": "Python 2",
   "language": "python",
   "name": "python2"
  },
  "language_info": {
   "codemirror_mode": {
    "name": "ipython",
    "version": 2
   },
   "file_extension": ".py",
   "mimetype": "text/x-python",
   "name": "python",
   "nbconvert_exporter": "python",
   "pygments_lexer": "ipython2",
   "version": "2.7.16"
  },
  "varInspector": {
   "cols": {
    "lenName": 16,
    "lenType": 16,
    "lenVar": 40
   },
   "kernels_config": {
    "python": {
     "delete_cmd_postfix": "",
     "delete_cmd_prefix": "del ",
     "library": "var_list.py",
     "varRefreshCmd": "print(var_dic_list())"
    },
    "r": {
     "delete_cmd_postfix": ") ",
     "delete_cmd_prefix": "rm(",
     "library": "var_list.r",
     "varRefreshCmd": "cat(var_dic_list()) "
    }
   },
   "types_to_exclude": [
    "module",
    "function",
    "builtin_function_or_method",
    "instance",
    "_Feature"
   ],
   "window_display": false
  }
 },
 "nbformat": 4,
 "nbformat_minor": 2
}
