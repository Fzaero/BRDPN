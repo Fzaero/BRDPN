{
 "cells": [
  {
   "cell_type": "code",
   "execution_count": null,
   "metadata": {},
   "outputs": [],
   "source": [
    "import hack\n",
    "from DatasetLoader import *\n",
    "from DataGenerator import *\n",
    "import pickle\n",
    "import numpy as np\n",
    "import os \n",
    "import matplotlib.animation as manimation\n",
    "from IPython.display import clear_output\n",
    "from sklearn.metrics import mean_absolute_error"
   ]
  },
  {
   "cell_type": "code",
   "execution_count": null,
   "metadata": {},
   "outputs": [],
   "source": [
    "with open('../Data/DATASET_REAL/real_world_trajectories.pickle', 'rb') as handle:\n",
    "     real_world_trajectories =pickle.load(handle)\n",
    "with open('../Data/DATASET_REAL/real_world_relations.pickle', 'rb') as handle:\n",
    "     real_world_relations= pickle.load(handle)\n",
    "with open('../Models/Dataset_Simple_scaler.pickle.pickle', 'rb') as handle:\n",
    "    dataset_scaler = pickle.load(handle)"
   ]
  },
  {
   "cell_type": "code",
   "execution_count": null,
   "metadata": {},
   "outputs": [],
   "source": [
    "from Test import *\n",
    "# Sample Real World Traj Video\n",
    "traj_ind=-1\n",
    "if traj_ind>=0:\n",
    "    xy= real_world_trajectories[traj_ind][0,:,:,2:4]\n",
    "    r = real_world_trajectories[traj_ind][0,0,:,0]\n",
    "    edge =  real_world_relations[traj_ind][0]\n",
    "    make_video(xy,r,edge,'test.mp4')"
   ]
  },
  {
   "cell_type": "code",
   "execution_count": null,
   "metadata": {},
   "outputs": [],
   "source": [
    "from Networks import *\n",
    "Tpns = TemporalPropagationNetwork()\n",
    "Tpn = Tpns.getModel(10,6,1,100,50)\n",
    "\n",
    "Pns= PropagationNetwork()\n",
    "Pn1=Pns.getModel(10,6,1)\n",
    "\n",
    "Pns.setModel(10,'../Models/PN_fixed.hdf5') \n",
    "Tpn.load_weights(('../Models/TPN_fixed.hdf5'))"
   ]
  },
  {
   "cell_type": "code",
   "execution_count": null,
   "metadata": {},
   "outputs": [],
   "source": [
    "from Networks import *\n",
    "results=list()\n",
    "for traj_ind in tqdm(range(102)):\n",
    "    traj=real_world_trajectories[traj_ind]\n",
    "    rels=real_world_relations[traj_ind]\n",
    "    Tpn = Tpns.getModel(traj.shape[2],6,1,traj.shape[1],0)\n",
    "    results.append(Test_TPN(traj,rels,Tpn,dataset_scaler))"
   ]
  },
  {
   "cell_type": "code",
   "execution_count": null,
   "metadata": {},
   "outputs": [],
   "source": [
    "# Finding Contact timesteps.\n",
    "relations_timesteps=np.zeros((102,6))\n",
    "for traj_ind in tqdm(range(102)):\n",
    "    isended=False\n",
    "    traj=real_world_trajectories[traj_ind]    \n",
    "    for ts in range(traj.shape[1]):\n",
    "        if isended:\n",
    "            break\n",
    "        for obj2 in range(1,traj.shape[2]):\n",
    "            if np.linalg.norm(traj[0,ts,0,2:4]-traj[0,ts,obj2,2:4])<(traj[0,ts,0,0]+traj[0,ts,obj2,0])/2+0.01:\n",
    "                for ts_add in range(5):\n",
    "                    relations_timesteps[traj_ind,1+ts_add]=ts+ts_add\n",
    "                isended=True\n",
    "                break"
   ]
  },
  {
   "cell_type": "code",
   "execution_count": null,
   "metadata": {},
   "outputs": [],
   "source": [
    "def custom_Test(traj,relations,startStep,Ins,scaler):\n",
    "    n_objects = traj.shape[2]\n",
    "    n_of_rel=1\n",
    "    n_relations=n_objects*(n_objects-1)\n",
    "    In=Ins.getModel(n_objects)\n",
    "    GroundData=traj\n",
    "    n_of_traj=GroundData.shape[0]\n",
    "    frame_len=    traj.shape[1]  -startStep         \n",
    "    xy_origin_pos=copy.deepcopy(GroundData[:,startStep:,:,2:4]);\n",
    "    xy_origin_vel=copy.deepcopy(GroundData[:,startStep:,:,4:6]);\n",
    "    \n",
    "    dataToModel= np.zeros([n_of_traj,frame_len,n_objects,6])\n",
    "    dataToModel[:,0,:,:]= copy.deepcopy(GroundData[:,startStep,:,:])\n",
    "    dataToModel[:,:,0,:]= copy.deepcopy(GroundData[:,startStep:,0,:])\n",
    "    dataToModel[:,:,:,:2]= copy.deepcopy(GroundData[:,startStep:,:,:2])\n",
    "    dataToModel[:,0,1:,4:6]= 0\n",
    "    r= dataToModel[:,0,:,0]\n",
    "    dataToModel=scaler.transform(dataToModel)\n",
    "    val_receiver_relations = np.zeros((n_of_traj, n_objects, n_relations), dtype=float);\n",
    "    val_sender_relations   = np.zeros((n_of_traj, n_objects, n_relations), dtype=float);\n",
    "    val_relation_info = relations#np.zeros((n_of_traj, n_relations, num_of_rel_type))\n",
    "    propagation = np.zeros((n_of_traj, n_objects, 100))\n",
    "    cnt = 0\n",
    "    for m in range(n_objects):\n",
    "        for j in range(n_objects):\n",
    "            if(m != j):\n",
    "                inzz=np.linalg.norm(dataToModel[:,0,m,2:4]-dataToModel[:,0,j,2:4],axis=1)<scaler.relation_threshold\n",
    "                val_receiver_relations[inzz, j, cnt] = 1.0\n",
    "                val_sender_relations[inzz, m, cnt]   = 1.0\n",
    "                cnt += 1\n",
    "    edges=val_relation_info\n",
    "    for i in range(1,frame_len):\n",
    "        velocities=In.predict({'objects': dataToModel[:,i-1,:,:],'sender_relations': val_sender_relations,'receiver_relations': val_receiver_relations,'relation_info': val_relation_info,'propagation':propagation})\n",
    "        dataToModel[:,i,1:,2:4]=dataToModel[:,i-1,1:,2:4]\n",
    "        dataToModel[:,i,1:,4:6]=velocities[:,:,:]; \n",
    "        dataToModel[:,i,1:,:]=PositionCalculateNext(dataToModel[:,i,1:,:],scaler)\n",
    "        val_receiver_relations = np.zeros((n_of_traj, n_objects, n_relations), dtype=float);\n",
    "        val_sender_relations   = np.zeros((n_of_traj, n_objects, n_relations), dtype=float);\n",
    "        cnt = 0\n",
    "        for m in range(n_objects):\n",
    "            for j in range(n_objects):\n",
    "                if(m != j):\n",
    "                    inzz=np.linalg.norm(dataToModel[:,i,m,2:4]-dataToModel[:,i,j,2:4],axis=1)<scaler.relation_threshold\n",
    "                    val_receiver_relations[inzz, j, cnt] = 1.0\n",
    "                    val_sender_relations[inzz, m, cnt]   = 1.0                    \n",
    "                    cnt += 1\n",
    "    pred_xy = scaler.inv_transform(dataToModel)\n",
    "    \n",
    "    xy_calculated_pos=pred_xy[:,:,:,2:4]\n",
    "    xy_calculated_vel=pred_xy[:,:,:,4:6]\n",
    "    return mean_squared_error(xy_calculated_pos[:,-1,1:,:].reshape(-1,2),xy_origin_pos[:,-1,1:,:].reshape(-1,2))"
   ]
  },
  {
   "cell_type": "code",
   "execution_count": null,
   "metadata": {},
   "outputs": [],
   "source": [
    "from sklearn.metrics import mean_squared_error \n",
    "errors=dict()\n",
    "for traj_ind in tqdm(range(102)):\n",
    "    Pn=Pns.getModel(real_world_trajectories[traj_ind].shape[2],6,1)\n",
    "    traj_to_give=real_world_trajectories[traj_ind]\n",
    "    rels_to_give=results[traj_ind][3]\n",
    "    \n",
    "    rels_to_give[rels_to_give>0.7]=1\n",
    "    rels_to_give[rels_to_give<0.8]=0\n",
    "    \n",
    "    for ts_ind in range(6):\n",
    "        ts=int(relations_timesteps[traj_ind,ts_ind])\n",
    "        errors[traj_ind,ts_ind]=custom_Test(traj_to_give,rels_to_give[:,:,ts,:],ts,Pns,dataset_scaler)"
   ]
  }
 ],
 "metadata": {
  "kernelspec": {
   "display_name": "Python 2",
   "language": "python",
   "name": "python2"
  },
  "language_info": {
   "codemirror_mode": {
    "name": "ipython",
    "version": 2
   },
   "file_extension": ".py",
   "mimetype": "text/x-python",
   "name": "python",
   "nbconvert_exporter": "python",
   "pygments_lexer": "ipython2",
   "version": "2.7.16"
  }
 },
 "nbformat": 4,
 "nbformat_minor": 2
}
